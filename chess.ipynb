{
 "cells": [
  {
   "cell_type": "code",
   "execution_count": 4,
   "metadata": {},
   "outputs": [],
   "source": [
    "import numpy as np"
   ]
  },
  {
   "cell_type": "code",
   "execution_count": 339,
   "metadata": {},
   "outputs": [],
   "source": [
    "import matplotlib.pyplot as plt"
   ]
  },
  {
   "cell_type": "code",
   "execution_count": 648,
   "metadata": {},
   "outputs": [],
   "source": [
    "def generate_board(alpha = 0.9):\n",
    "    a = np.full([8,8], ' ')\n",
    "\n",
    "    pieces = np.random.permutation([\"♕\",\"♗\",\"♗\",\"♘\",\"♘\",\"♖\",\"♖\"] + [\"♛\",\"♝\",\"♝\",\"♞\",\"♞\",\"♜\",\"♜\"])\n",
    "    k = 0\n",
    "\n",
    "    pawns = np.random.permutation([\"♙\",\"♙\",\"♙\",\"♙\",\"♙\",\"♙\",\"♙\",\"♙\"] + [\"♟\",\"♟\",\"♟\",\"♟\",\"♟\",\"♟\",\"♟\",\"♟\"])\n",
    "    m = 0\n",
    "\n",
    "    for i in range(8):\n",
    "        for j in range(8):\n",
    "            if np.random.rand() > alpha and k < len(pieces):\n",
    "                a[i, j] = pieces[k]\n",
    "                k += 1\n",
    "            elif np.random.rand() > alpha and m < len(pawns) and i > 0 and i < 7:\n",
    "                a[i, j] = pawns[m]\n",
    "                m += 1\n",
    "\n",
    "    p1 = np.random.permutation(range(8))\n",
    "    p2 = np.random.permutation(range(8))\n",
    "\n",
    "    a[p1[0], p2[0]] = \"♔\"\n",
    "    a[p1[1], p2[1]] = \"♚\"\n",
    "\n",
    "    return a        "
   ]
  },
  {
   "cell_type": "code",
   "execution_count": 603,
   "metadata": {},
   "outputs": [],
   "source": [
    "fig2img = {\n",
    "    \"♔\": \"kw\",\n",
    "    \"♕\": \"qw\",\n",
    "    \"♗\": \"bw\",\n",
    "    \"♘\": \"nw\",\n",
    "    \"♖\": \"rw\",\n",
    "    \"♙\": \"pw\",\n",
    "    \"♚\": \"kb\",\n",
    "    \"♛\": \"qb\",\n",
    "    \"♝\": \"bb\",\n",
    "    \"♞\": \"nb\",\n",
    "    \"♜\": \"rb\",\n",
    "    \"♟\": \"pb\",\n",
    "    \" \": \"\"\n",
    "}"
   ]
  },
  {
   "cell_type": "code",
   "execution_count": 604,
   "metadata": {},
   "outputs": [],
   "source": [
    "def get_square_color(i, j):\n",
    "    return \"b\" if (i + j) % 2 else \"w\""
   ]
  },
  {
   "cell_type": "code",
   "execution_count": 682,
   "metadata": {},
   "outputs": [],
   "source": [
    "def get_image_name(a, i, j):\n",
    "    return \"images/\" + fig2img[a[i, j]] + get_square_color(i, j) + \".png\""
   ]
  },
  {
   "cell_type": "code",
   "execution_count": 606,
   "metadata": {},
   "outputs": [],
   "source": [
    "def get_board_image(a):\n",
    "    b = np.empty((0, 30 * 8, 3))\n",
    "    for i in range(len(a)):\n",
    "        r = np.empty((30, 0, 3))\n",
    "        for j in range(len(a[0])):\n",
    "            r = np.hstack([r, plt.imread(get_image_name(a, i, j))])\n",
    "        b = np.vstack([b, r])\n",
    "    return b"
   ]
  },
  {
   "cell_type": "code",
   "execution_count": null,
   "metadata": {},
   "outputs": [],
   "source": []
  },
  {
   "cell_type": "code",
   "execution_count": 714,
   "metadata": {},
   "outputs": [
    {
     "name": "stdout",
     "output_type": "stream",
     "text": [
      "[['♖' ' ' ' ' ' ' ' ' ' ' '♚' ' ']\n",
      " [' ' '♞' ' ' ' ' '♟' '♙' ' ' ' ']\n",
      " [' ' ' ' ' ' ' ' ' ' ' ' ' ' ' ']\n",
      " [' ' ' ' ' ' '♟' ' ' ' ' ' ' ' ']\n",
      " [' ' '♔' ' ' ' ' ' ' ' ' '♕' ' ']\n",
      " [' ' '♘' ' ' ' ' '♙' ' ' ' ' '♝']\n",
      " [' ' ' ' ' ' ' ' ' ' '♙' ' ' ' ']\n",
      " [' ' ' ' ' ' ' ' ' ' ' ' ' ' ' ']]\n"
     ]
    },
    {
     "data": {
      "text/html": [
       "<img src=\"board.png?timestamp=1552404335.990045\"/>"
      ],
      "text/plain": [
       "<IPython.core.display.Image object>"
      ]
     },
     "execution_count": 714,
     "metadata": {},
     "output_type": "execute_result"
    }
   ],
   "source": [
    "b = generate_board(0.9)\n",
    "a = get_board_image(b)\n",
    "plt.imsave(\"board.png\", a)\n",
    "\n",
    "from IPython.display import Image\n",
    "from datetime import datetime\n",
    "\n",
    "print(b)\n",
    "Image(url=\"board.png?timestamp=\" + str(datetime.now().timestamp()))"
   ]
  },
  {
   "cell_type": "code",
   "execution_count": 715,
   "metadata": {},
   "outputs": [
    {
     "ename": "ModuleNotFoundError",
     "evalue": "No module named 'keras'",
     "output_type": "error",
     "traceback": [
      "\u001b[1;31m---------------------------------------------------------------------------\u001b[0m",
      "\u001b[1;31mModuleNotFoundError\u001b[0m                       Traceback (most recent call last)",
      "\u001b[1;32m<ipython-input-715-764f6ca90674>\u001b[0m in \u001b[0;36m<module>\u001b[1;34m\u001b[0m\n\u001b[1;32m----> 1\u001b[1;33m \u001b[1;32mfrom\u001b[0m \u001b[0mkeras\u001b[0m\u001b[1;33m.\u001b[0m\u001b[0mlayers\u001b[0m \u001b[1;32mimport\u001b[0m \u001b[0mInput\u001b[0m\u001b[1;33m,\u001b[0m \u001b[0mDense\u001b[0m\u001b[1;33m\u001b[0m\u001b[1;33m\u001b[0m\u001b[0m\n\u001b[0m\u001b[0;32m      2\u001b[0m \u001b[1;32mfrom\u001b[0m \u001b[0mkeras\u001b[0m\u001b[1;33m.\u001b[0m\u001b[0mmodels\u001b[0m \u001b[1;32mimport\u001b[0m \u001b[0mModel\u001b[0m\u001b[1;33m\u001b[0m\u001b[1;33m\u001b[0m\u001b[0m\n",
      "\u001b[1;31mModuleNotFoundError\u001b[0m: No module named 'keras'"
     ]
    }
   ],
   "source": [
    "from keras.layers import Input, Dense\n",
    "from keras.models import Model"
   ]
  },
  {
   "cell_type": "code",
   "execution_count": null,
   "metadata": {},
   "outputs": [],
   "source": []
  }
 ],
 "metadata": {
  "kernelspec": {
   "display_name": "Python 3",
   "language": "python",
   "name": "python3"
  },
  "language_info": {
   "codemirror_mode": {
    "name": "ipython",
    "version": 3
   },
   "file_extension": ".py",
   "mimetype": "text/x-python",
   "name": "python",
   "nbconvert_exporter": "python",
   "pygments_lexer": "ipython3",
   "version": "3.7.1"
  }
 },
 "nbformat": 4,
 "nbformat_minor": 2
}
