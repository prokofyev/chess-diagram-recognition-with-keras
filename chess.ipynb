{
 "cells": [
  {
   "cell_type": "code",
   "execution_count": 1,
   "metadata": {},
   "outputs": [],
   "source": [
    "import numpy as np\n",
    "import matplotlib.pyplot as plt\n",
    "from itertools import product"
   ]
  },
  {
   "cell_type": "code",
   "execution_count": 2,
   "metadata": {},
   "outputs": [],
   "source": [
    "def generate_board(alpha = 0.9, size=8):\n",
    "    a = np.full([size,size], ' ')\n",
    "\n",
    "    pieces = [\"♔\", \"♚\"] + list(np.random.permutation([\"♕\",\"♗\",\"♗\",\"♘\",\"♘\",\"♖\",\"♖\"] + \n",
    "                                                     [\"♛\",\"♝\",\"♝\",\"♞\",\"♞\",\"♜\",\"♜\"]))\n",
    "    k = 0\n",
    "\n",
    "    pawns = np.random.permutation([\"♙\",\"♙\",\"♙\",\"♙\",\"♙\",\"♙\",\"♙\",\"♙\"] + \n",
    "                                  [\"♟\",\"♟\",\"♟\",\"♟\",\"♟\",\"♟\",\"♟\",\"♟\"])\n",
    "    m = 0\n",
    "\n",
    "    cells = np.random.permutation(list(product(range(size), range(size))))\n",
    "    \n",
    "    for i, j in cells:\n",
    "        if k < 2 or k < len(pieces) and np.random.rand() > 0.5 and np.random.rand() > alpha:\n",
    "            a[i, j] = pieces[k]\n",
    "            k += 1\n",
    "        elif m < len(pawns) and i > 0 and i < size - 1 and np.random.rand() > alpha:\n",
    "            a[i, j] = pawns[m]\n",
    "            m += 1\n",
    "\n",
    "    return a        "
   ]
  },
  {
   "cell_type": "code",
   "execution_count": 3,
   "metadata": {},
   "outputs": [],
   "source": [
    "def get_square_color(i, j):\n",
    "    return \"b\" if (i + j) % 2 else \"w\""
   ]
  },
  {
   "cell_type": "code",
   "execution_count": 4,
   "metadata": {},
   "outputs": [],
   "source": [
    "fig2img = {\n",
    "    \"♔\": \"kw\",\n",
    "    \"♕\": \"qw\",\n",
    "    \"♗\": \"bw\",\n",
    "    \"♘\": \"nw\",\n",
    "    \"♖\": \"rw\",\n",
    "    \"♙\": \"pw\",\n",
    "    \"♚\": \"kb\",\n",
    "    \"♛\": \"qb\",\n",
    "    \"♝\": \"bb\",\n",
    "    \"♞\": \"nb\",\n",
    "    \"♜\": \"rb\",\n",
    "    \"♟\": \"pb\",\n",
    "    \"?\": \"u\",\n",
    "    \" \": \"\"\n",
    "}"
   ]
  },
  {
   "cell_type": "code",
   "execution_count": 5,
   "metadata": {},
   "outputs": [],
   "source": [
    "img2fig = {fig2img[k]: k for k in fig2img}"
   ]
  },
  {
   "cell_type": "code",
   "execution_count": 7,
   "metadata": {},
   "outputs": [],
   "source": [
    "def get_image_name(a, i, j, s):\n",
    "    return \"images/\" + s + \"/\" + fig2img[a[i, j]] + get_square_color(i, j) + \".png\""
   ]
  },
  {
   "cell_type": "code",
   "execution_count": 8,
   "metadata": {},
   "outputs": [],
   "source": [
    "def get_board_image(a, s=\"1\"):\n",
    "    b = np.empty((0, 30 * len(a), 3))\n",
    "    for i in range(len(a)):\n",
    "        r = np.empty((30, 0, 3))\n",
    "        for j in range(len(a[0])):\n",
    "            r = np.hstack([r, plt.imread(get_image_name(a, i, j, s))])\n",
    "        b = np.vstack([b, r])\n",
    "    return b"
   ]
  },
  {
   "cell_type": "code",
   "execution_count": 9,
   "metadata": {},
   "outputs": [],
   "source": [
    "p2c = {\n",
    "    \"♔\": [1, 0, 0, 0, 0, 0, 0, 0, 0, 0, 0, 0, 0],\n",
    "    \"♕\": [0, 1, 0, 0, 0, 0, 0, 0, 0, 0, 0, 0, 0],\n",
    "    \"♗\": [0, 0, 1, 0, 0, 0, 0, 0, 0, 0, 0, 0, 0],\n",
    "    \"♘\": [0, 0, 0, 1, 0, 0, 0, 0, 0, 0, 0, 0, 0],\n",
    "    \"♖\": [0, 0, 0, 0, 1, 0, 0, 0, 0, 0, 0, 0, 0],\n",
    "    \"♙\": [0, 0, 0, 0, 0, 1, 0, 0, 0, 0, 0, 0, 0],\n",
    "    \"♚\": [0, 0, 0, 0, 0, 0, 1, 0, 0, 0, 0, 0, 0],\n",
    "    \"♛\": [0, 0, 0, 0, 0, 0, 0, 1, 0, 0, 0, 0, 0],\n",
    "    \"♝\": [0, 0, 0, 0, 0, 0, 0, 0, 1, 0, 0, 0, 0],\n",
    "    \"♞\": [0, 0, 0, 0, 0, 0, 0, 0, 0, 1, 0, 0, 0],\n",
    "    \"♜\": [0, 0, 0, 0, 0, 0, 0, 0, 0, 0, 1, 0, 0],\n",
    "    \"♟\": [0, 0, 0, 0, 0, 0, 0, 0, 0, 0, 0, 1, 0],\n",
    "    \" \": [0, 0, 0, 0, 0, 0, 0, 0, 0, 0, 0, 0, 1],\n",
    "}\n",
    "\n",
    "c2p = {tuple(p2c[k]): k for k in p2c}"
   ]
  },
  {
   "cell_type": "code",
   "execution_count": 10,
   "metadata": {},
   "outputs": [],
   "source": [
    "def encode_board(a, encode=True):\n",
    "\n",
    "    r = []\n",
    "    \n",
    "    if encode:\n",
    "        for i in range(len(a)):\n",
    "            for j in range(len(a[0])):\n",
    "                r.extend(p2c[a[i,j]])\n",
    "        return np.array(r)\n",
    "    else:\n",
    "        i = 0\n",
    "        while i + 13 <= len(a):\n",
    "            r.append(c2p.get(tuple(a[i:i+13]), \"?\"))\n",
    "            i += 13\n",
    "        size = int(len(r) ** (0.5))\n",
    "        return np.array(r).reshape(size, size)"
   ]
  },
  {
   "cell_type": "code",
   "execution_count": 11,
   "metadata": {},
   "outputs": [],
   "source": [
    "def decode_board(a):\n",
    "    return encode_board(a, False)"
   ]
  },
  {
   "cell_type": "code",
   "execution_count": 12,
   "metadata": {},
   "outputs": [],
   "source": [
    "def encode_image(image_name):\n",
    "    image_name = image_name.split(\"\\\\\")[-1]\n",
    "    return p2c[img2fig.get(image_name[:2], \" \")]"
   ]
  },
  {
   "cell_type": "code",
   "execution_count": 13,
   "metadata": {},
   "outputs": [
    {
     "name": "stderr",
     "output_type": "stream",
     "text": [
      "Using TensorFlow backend.\n"
     ]
    }
   ],
   "source": [
    "from keras.models import Sequential\n",
    "from keras.layers import Flatten\n",
    "from keras.layers import Conv2D\n",
    "from keras.optimizers import Adam"
   ]
  },
  {
   "cell_type": "code",
   "execution_count": 14,
   "metadata": {},
   "outputs": [],
   "source": [
    "def create_model(size):\n",
    "    filters = 13\n",
    "\n",
    "    model = Sequential()\n",
    "\n",
    "    model.add(Conv2D(filters=filters, kernel_size=(30, 30), strides=(30, 30), padding='same', activation='softmax', \n",
    "                     input_shape=(30 * size, 30 * size, 3)))\n",
    "    # model2.add(Conv2D(filters=13, kernel_size=(1, 1), strides=(1, 1), padding='same', activation='softmax'))\n",
    "    model.add(Flatten())\n",
    "\n",
    "    model.compile(loss='categorical_crossentropy', optimizer=Adam(), metrics=['accuracy'])\n",
    "    model.build()\n",
    "    \n",
    "    return model"
   ]
  },
  {
   "cell_type": "code",
   "execution_count": 15,
   "metadata": {},
   "outputs": [],
   "source": [
    "def predict(model, board_image):\n",
    "    p = model.predict(board_image.reshape([1] + list(board_image.shape)))[0]\n",
    "    return np.where(p < 0.1, 0, np.where(p > 0.9, 1, -1))"
   ]
  },
  {
   "cell_type": "code",
   "execution_count": 17,
   "metadata": {},
   "outputs": [
    {
     "name": "stdout",
     "output_type": "stream",
     "text": [
      "_________________________________________________________________\n",
      "Layer (type)                 Output Shape              Param #   \n",
      "=================================================================\n",
      "conv2d_2 (Conv2D)            (None, 1, 1, 13)          35113     \n",
      "_________________________________________________________________\n",
      "flatten_2 (Flatten)          (None, 13)                0         \n",
      "=================================================================\n",
      "Total params: 35,113\n",
      "Trainable params: 35,113\n",
      "Non-trainable params: 0\n",
      "_________________________________________________________________\n"
     ]
    }
   ],
   "source": [
    "model1x1 = create_model(1)\n",
    "model1x1.summary()"
   ]
  },
  {
   "cell_type": "markdown",
   "metadata": {},
   "source": [
    "Тренируем нейросеть на изображениях отдельных шахматных фигур и пустых клеток."
   ]
  },
  {
   "cell_type": "code",
   "execution_count": 24,
   "metadata": {
    "scrolled": true
   },
   "outputs": [],
   "source": [
    "import glob\n",
    "\n",
    "image_names = glob.glob(\"images/[12]/[!u]*\")\n",
    "x_train = np.array(list(map(plt.imread, image_names)))\n",
    "y_train = np.array(list(map(encode_image, image_names)))"
   ]
  },
  {
   "cell_type": "markdown",
   "metadata": {},
   "source": [
    "Тренируем модель и проверям, что она не делает ошибок на обучающей выборке:"
   ]
  },
  {
   "cell_type": "code",
   "execution_count": 27,
   "metadata": {},
   "outputs": [
    {
     "data": {
      "text/plain": [
       "(0.008331744000315666, 1.0)"
      ]
     },
     "execution_count": 27,
     "metadata": {},
     "output_type": "execute_result"
    }
   ],
   "source": [
    "model1x1.fit(x_train, y_train, \n",
    "             batch_size=128,\n",
    "             epochs=100,\n",
    "             shuffle=True, \n",
    "             verbose=False)\n",
    "\n",
    "model1x1.history.history[\"loss\"][-1], model1x1.history.history[\"acc\"][-1]"
   ]
  },
  {
   "cell_type": "markdown",
   "metadata": {},
   "source": [
    "Создаём новую нейросеть, которая будет смотреть на доску целиком:"
   ]
  },
  {
   "cell_type": "code",
   "execution_count": 28,
   "metadata": {
    "scrolled": true
   },
   "outputs": [
    {
     "name": "stdout",
     "output_type": "stream",
     "text": [
      "_________________________________________________________________\n",
      "Layer (type)                 Output Shape              Param #   \n",
      "=================================================================\n",
      "conv2d_3 (Conv2D)            (None, 8, 8, 13)          35113     \n",
      "_________________________________________________________________\n",
      "flatten_3 (Flatten)          (None, 832)               0         \n",
      "=================================================================\n",
      "Total params: 35,113\n",
      "Trainable params: 35,113\n",
      "Non-trainable params: 0\n",
      "_________________________________________________________________\n"
     ]
    }
   ],
   "source": [
    "model8x8 = create_model(8)\n",
    "model8x8.summary()"
   ]
  },
  {
   "cell_type": "markdown",
   "metadata": {},
   "source": [
    "Генерируем случайное изображение шахматной позиции:"
   ]
  },
  {
   "cell_type": "code",
   "execution_count": 42,
   "metadata": {
    "scrolled": false
   },
   "outputs": [
    {
     "data": {
      "image/png": "[encoded data removed]",
      "text/plain": [
       "<Figure size 432x288 with 1 Axes>"
      ]
     },
     "metadata": {
      "needs_background": "light"
     },
     "output_type": "display_data"
    }
   ],
   "source": [
    "test_image = get_board_image(generate_board(), \"2\")\n",
    "plt.axis('off')\n",
    "plt.imshow(test_image);"
   ]
  },
  {
   "cell_type": "markdown",
   "metadata": {},
   "source": [
    "Новую сеть не обучали, поэтому она распознать ничего не может:"
   ]
  },
  {
   "cell_type": "code",
   "execution_count": 43,
   "metadata": {
    "scrolled": true
   },
   "outputs": [
    {
     "data": {
      "text/plain": [
       "array([['?', '?', '?', '?', '?', '?', '?', '?'],\n",
       "       ['?', '?', '?', '?', '?', '?', '?', '?'],\n",
       "       ['?', '?', '?', '?', '?', '?', '?', '?'],\n",
       "       ['?', '?', '?', '?', '?', '?', '?', '?'],\n",
       "       ['?', '?', '?', '?', '?', '?', '?', '?'],\n",
       "       ['?', '?', '?', '?', '?', '?', '?', '?'],\n",
       "       ['?', '?', '?', '?', '?', '?', '?', '?'],\n",
       "       ['?', '?', '?', '?', '?', '?', '?', '?']], dtype='<U1')"
      ]
     },
     "execution_count": 43,
     "metadata": {},
     "output_type": "execute_result"
    }
   ],
   "source": [
    "decode_board(predict(model8x8, test_image))"
   ]
  },
  {
   "cell_type": "markdown",
   "metadata": {},
   "source": [
    "Копируем веса обученной сети в новую сеть:"
   ]
  },
  {
   "cell_type": "code",
   "execution_count": 44,
   "metadata": {},
   "outputs": [],
   "source": [
    "def copy_weights(source_model, target_model):\n",
    "    for i in range(len(source_model.layers)):\n",
    "        target_model.layers[i].set_weights(source_model.layers[i].get_weights())"
   ]
  },
  {
   "cell_type": "code",
   "execution_count": 46,
   "metadata": {},
   "outputs": [],
   "source": [
    "copy_weights(model1x1, model8x8)"
   ]
  },
  {
   "cell_type": "markdown",
   "metadata": {},
   "source": [
    "Теперь изображения шахматных фигур успешно распознаны:"
   ]
  },
  {
   "cell_type": "code",
   "execution_count": 47,
   "metadata": {},
   "outputs": [
    {
     "data": {
      "text/plain": [
       "array([[' ', ' ', ' ', ' ', ' ', ' ', ' ', ' '],\n",
       "       ['♙', '♚', ' ', '♖', ' ', ' ', ' ', ' '],\n",
       "       ['♔', ' ', ' ', ' ', ' ', ' ', ' ', ' '],\n",
       "       [' ', ' ', ' ', '♟', ' ', ' ', ' ', ' '],\n",
       "       [' ', ' ', ' ', '♝', ' ', '♘', ' ', ' '],\n",
       "       [' ', ' ', ' ', ' ', ' ', '♖', ' ', '♟'],\n",
       "       ['♘', ' ', ' ', ' ', '♙', ' ', '♟', '♛'],\n",
       "       [' ', ' ', ' ', ' ', ' ', ' ', ' ', ' ']], dtype='<U1')"
      ]
     },
     "execution_count": 47,
     "metadata": {},
     "output_type": "execute_result"
    }
   ],
   "source": [
    "decode_board(predict(model8x8, test_image))"
   ]
  },
  {
   "cell_type": "code",
   "execution_count": null,
   "metadata": {},
   "outputs": [],
   "source": []
  }
 ],
 "metadata": {
  "kernelspec": {
   "display_name": "Python 3",
   "language": "python",
   "name": "python3"
  },
  "language_info": {
   "codemirror_mode": {
    "name": "ipython",
    "version": 3
   },
   "file_extension": ".py",
   "mimetype": "text/x-python",
   "name": "python",
   "nbconvert_exporter": "python",
   "pygments_lexer": "ipython3",
   "version": "3.7.1"
  }
 },
 "nbformat": 4,
 "nbformat_minor": 2
}
